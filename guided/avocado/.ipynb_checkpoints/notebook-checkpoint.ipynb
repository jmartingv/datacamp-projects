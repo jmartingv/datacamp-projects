{
 "cells": [
  {
   "cell_type": "markdown",
   "id": "32ec92a0-c21a-45b8-ac63-9f9c698a1291",
   "metadata": {},
   "source": [
    "# What's in an Avocado Toast: A Supply Chain Analysis\n",
    "\n",
    "You're in London, making an avocado toast, a quick-to-make dish that has soared in popularity on breakfast menus since the 2010s. A simple smashed avocado toast can be made with five ingredients: one ripe avocado, half a lemon, a big pinch of salt flakes, two slices of sourdough bread and a good drizzle of extra virgin olive oil. It's no small feat that most of these ingredients are readily available in grocery stores. \n",
    "\n",
    "In this project, you'll conduct a supply chain analysis of three of these ingredients used in an avocado toast, utilizing the Open Food Facts database. This database contains extensive, openly-sourced information on various foods, including their origins. Through this analysis, you will gain an in-depth understanding of the complex supply chain involved in producing a single dish.\n",
    "\n",
    "Three pairs of files are provided in the data folder:\n",
    "- A CSV file for each ingredient, such as `avocado.csv`, with data about each food item and countries of origin\n",
    "- A TXT file for each ingredient, such as `relevant_avocado_categories`, containing only the category tags of interest for that food.\n",
    "\n",
    "Here are some other key points about these files:\n",
    "- Some of the rows of data in each of the three CSV files do not contain relevant data for your investigation. In each dataset, you will need to filter out rows with irrelevant data, based on values in the `categories_tags` column. Examples of categories are, fruits, vegetables, and fruit-based oils. Filter the DataFrame to include only rows where `categories_tags` contains one of the tags in the relevant categories for that ingredient.\n",
    "- Each row of data usually has multiple categories tags in the `categories_tags` column.\n",
    "- There is a column in each CSV file called `origins_tags` with strings for country of origin of that item.\n",
    "\n",
    "After completing this project, you'll be armed with a list of ingredients and their countries of origin, and be well-positioned to launch into other analyses that explore how long, on average, these ingredients spend at sea.\n",
    "\n",
    "![](avocado_wallpaper.jpeg)"
   ]
  },
  {
   "cell_type": "code",
   "execution_count": 1,
   "id": "95870cf7-b34c-4589-b9bc-da4a45f48a09",
   "metadata": {
    "executionCancelledAt": null,
    "executionTime": 44,
    "lastExecutedAt": 1696887420164,
    "lastScheduledRunId": null,
    "lastSuccessfullyExecutedCode": "import pandas as pd\n\n# Begin coding here ...\navocado = pd.read_csv(\"./data/avocado.csv\", sep=\"\\t\")"
   },
   "outputs": [],
   "source": [
    "import pandas as pd\n",
    "\n",
    "# Begin coding here ...\n",
    "avocado = pd.read_csv(\"./data/avocado.csv\", sep=\"\\t\")"
   ]
  },
  {
   "cell_type": "code",
   "execution_count": 2,
   "id": "3a8c8897-710f-4faf-b8c8-e58dd8f7c856",
   "metadata": {
    "executionCancelledAt": null,
    "executionTime": 47,
    "lastExecutedAt": 1696887420212,
    "lastScheduledRunId": null,
    "lastSuccessfullyExecutedCode": "# Subsetting columns\n\nrelevant_columns = ['code', 'lc', 'product_name_en', 'quantity', 'serving_size', 'packaging_tags', 'brands', 'brands_tags', 'categories_tags', 'labels_tags', 'countries', 'countries_tags', 'origins','origins_tags']\n\navocado = avocado[relevant_columns]"
   },
   "outputs": [],
   "source": [
    "# Subsetting columns\n",
    "\n",
    "relevant_columns = ['code', 'lc', 'product_name_en', 'quantity', 'serving_size', 'packaging_tags', 'brands', 'brands_tags', 'categories_tags', 'labels_tags', 'countries', 'countries_tags', 'origins','origins_tags']\n",
    "\n",
    "avocado = avocado[relevant_columns]"
   ]
  },
  {
   "cell_type": "code",
   "execution_count": 3,
   "id": "0a288ba2-9628-4229-a8df-cd38eda842de",
   "metadata": {
    "executionCancelledAt": null,
    "executionTime": 47,
    "lastExecutedAt": 1696887420260,
    "lastScheduledRunId": null,
    "lastSuccessfullyExecutedCode": "# Reading relevant categories\nwith open(\"./data/relevant_avocado_categories.txt\", \"r\") as file:\n    relevant_avocado_categories = file.read().splitlines()\n    file.close()"
   },
   "outputs": [],
   "source": [
    "# Reading relevant categories\n",
    "with open(\"./data/relevant_avocado_categories.txt\", \"r\") as file:\n",
    "    relevant_avocado_categories = file.read().splitlines()\n",
    "    file.close()"
   ]
  },
  {
   "cell_type": "code",
   "execution_count": 4,
   "id": "82df30bf-36c3-460a-a888-0f61ebaa1898",
   "metadata": {
    "executionCancelledAt": null,
    "executionTime": 47,
    "lastExecutedAt": 1696887420308,
    "lastScheduledRunId": null,
    "lastSuccessfullyExecutedCode": "# Dropping rows where categories tags is nan\navocado.dropna(subset=\"categories_tags\",inplace=True)"
   },
   "outputs": [],
   "source": [
    "# Dropping rows where categories tags is nan\n",
    "avocado.dropna(subset=\"categories_tags\",inplace=True)"
   ]
  },
  {
   "cell_type": "code",
   "execution_count": 5,
   "id": "4751f0b5-8703-4c68-881a-9b8f11e4efbc",
   "metadata": {
    "executionCancelledAt": null,
    "executionTime": 47,
    "lastExecutedAt": 1696887420356,
    "lastScheduledRunId": null,
    "lastSuccessfullyExecutedCode": "# Turning column values into lists\navocado[\"categories_list\"] = avocado[\"categories_tags\"].str.split(\",\")"
   },
   "outputs": [],
   "source": [
    "# Turning column values into lists\n",
    "avocado[\"categories_list\"] = avocado[\"categories_tags\"].str.split(\",\")"
   ]
  },
  {
   "cell_type": "code",
   "execution_count": 6,
   "id": "91207e76-f989-417f-bbd0-1addec31d23a",
   "metadata": {
    "executionCancelledAt": null,
    "executionTime": 50,
    "lastExecutedAt": 1696887420408,
    "lastScheduledRunId": null,
    "lastSuccessfullyExecutedCode": "# Selecting only relevant categories\navocado = avocado[avocado['categories_list'].apply(lambda x: any([i for i in x if i in relevant_avocado_categories]))]"
   },
   "outputs": [],
   "source": [
    "# Selecting only relevant categories\n",
    "avocado = avocado[avocado['categories_list'].apply(lambda x: any([i for i in x if i in relevant_avocado_categories]))]"
   ]
  },
  {
   "cell_type": "code",
   "execution_count": 7,
   "id": "582839aa-f1fd-41a2-a98e-4306f3e7ed1f",
   "metadata": {
    "executionCancelledAt": null,
    "executionTime": 47,
    "lastExecutedAt": 1696887420456,
    "lastScheduledRunId": null,
    "lastSuccessfullyExecutedCode": "# Filtering for only UK rows\navocado = avocado[avocado[\"countries\"] == \"United Kingdom\"]"
   },
   "outputs": [],
   "source": [
    "# Filtering for only UK rows\n",
    "avocado = avocado[avocado[\"countries\"] == \"United Kingdom\"]"
   ]
  },
  {
   "cell_type": "code",
   "execution_count": 8,
   "id": "482c2ba3-1294-47c8-a0d5-c9ce834fb450",
   "metadata": {
    "executionCancelledAt": null,
    "executionTime": 48,
    "lastExecutedAt": 1696887420505,
    "lastScheduledRunId": null,
    "lastSuccessfullyExecutedCode": "# Getting top origins for UK ingredients\navocado[\"origins_tags\"].value_counts()"
   },
   "outputs": [
    {
     "data": {
      "text/plain": [
       "en:peru             2\n",
       "en:spain,en:peru    1\n",
       "en:chile,en:peru    1\n",
       "en:israel           1\n",
       "Name: origins_tags, dtype: int64"
      ]
     },
     "execution_count": 8,
     "metadata": {},
     "output_type": "execute_result"
    }
   ],
   "source": [
    "# Getting top origins for UK ingredients\n",
    "avocado[\"origins_tags\"].value_counts()"
   ]
  },
  {
   "cell_type": "code",
   "execution_count": 9,
   "id": "3f3e7e4d-3e2c-4fb6-bdd8-5b2f64fb1263",
   "metadata": {
    "executionCancelledAt": null,
    "executionTime": 47,
    "lastExecutedAt": 1696887420552,
    "lastScheduledRunId": null,
    "lastSuccessfullyExecutedCode": "# Getting top value in value counts\navocado_origin = (avocado['origins_tags'].value_counts().index[0])"
   },
   "outputs": [],
   "source": [
    "# Getting top value in value counts\n",
    "avocado_origin = (avocado['origins_tags'].value_counts().index[0])"
   ]
  },
  {
   "cell_type": "code",
   "execution_count": 10,
   "id": "eb495f09-58aa-4bb4-a642-1a07abaa84a5",
   "metadata": {
    "executionCancelledAt": null,
    "executionTime": 47,
    "lastExecutedAt": 1696887420600,
    "lastScheduledRunId": null,
    "lastSuccessfullyExecutedCode": "# Cleaning string\ntop_avocado_origin = avocado_origin.lstrip(\"en:\").replace('-', ' ')"
   },
   "outputs": [],
   "source": [
    "# Cleaning string\n",
    "top_avocado_origin = avocado_origin.lstrip(\"en:\").replace('-', ' ')"
   ]
  },
  {
   "cell_type": "code",
   "execution_count": 11,
   "id": "2deaf352-974f-47b0-8d10-a6a4c51c39d6",
   "metadata": {
    "executionCancelledAt": null,
    "executionTime": 52,
    "lastExecutedAt": 1696887420652,
    "lastScheduledRunId": null,
    "lastSuccessfullyExecutedCode": "# Defining a function for automating the previos procedure\n\ndef get_top_origin(csv_filepath, categories_filepath):\n    df = pd.read_csv(csv_filepath, sep=\"\\t\")\n    \n    with open(categories_filepath,\"r\") as file:\n        relevant_categories = file.read().splitlines()\n        file.close()\n    \n    # Subsetting columns\n\n    relevant_columns = ['code', 'lc', 'product_name_en', 'quantity', 'serving_size',\n                        'packaging_tags', 'brands', 'brands_tags', 'categories_tags',\n                        'labels_tags', 'countries', 'countries_tags',\n                        'origins','origins_tags']\n    df = df[relevant_columns]\n    \n    # Dropping rows where categories tags is nan\n    df.dropna(subset=\"categories_tags\",inplace=True)\n    \n    # Turning column values into lists\n    df[\"categories_list\"] = df[\"categories_tags\"].str.split(\",\")\n    \n    # Filtering by categories\n    df = df[df['categories_list'].apply(lambda x: any([i for i in x if\n                                                       i in relevant_categories]))]\n    \n    df = df[df[\"countries\"] == \"United Kingdom\"]\n    \n    ingredient_top_origin = (df['origins_tags'].value_counts().index[0])\n    \n    ingredient_top_origin = ingredient_top_origin.lstrip(\"en:\").replace('-', ' ')\n    \n    return ingredient_top_origin"
   },
   "outputs": [],
   "source": [
    "# Defining a function for automating the previos procedure\n",
    "\n",
    "def get_top_origin(csv_filepath, categories_filepath):\n",
    "    df = pd.read_csv(csv_filepath, sep=\"\\t\")\n",
    "    \n",
    "    with open(categories_filepath,\"r\") as file:\n",
    "        relevant_categories = file.read().splitlines()\n",
    "        file.close()\n",
    "    \n",
    "    # Subsetting columns\n",
    "\n",
    "    relevant_columns = ['code', 'lc', 'product_name_en', 'quantity', 'serving_size',\n",
    "                        'packaging_tags', 'brands', 'brands_tags', 'categories_tags',\n",
    "                        'labels_tags', 'countries', 'countries_tags',\n",
    "                        'origins','origins_tags']\n",
    "    df = df[relevant_columns]\n",
    "    \n",
    "    # Dropping rows where categories tags is nan\n",
    "    df.dropna(subset=\"categories_tags\",inplace=True)\n",
    "    \n",
    "    # Turning column values into lists\n",
    "    df[\"categories_list\"] = df[\"categories_tags\"].str.split(\",\")\n",
    "    \n",
    "    # Filtering by categories\n",
    "    df = df[df['categories_list'].apply(lambda x: any([i for i in x if\n",
    "                                                       i in relevant_categories]))]\n",
    "    \n",
    "    df = df[df[\"countries\"] == \"United Kingdom\"]\n",
    "    \n",
    "    ingredient_top_origin = (df['origins_tags'].value_counts().index[0])\n",
    "    \n",
    "    ingredient_top_origin = ingredient_top_origin.lstrip(\"en:\").replace('-', ' ')\n",
    "    \n",
    "    return ingredient_top_origin"
   ]
  },
  {
   "cell_type": "code",
   "execution_count": 12,
   "id": "476c6245-8779-4151-9724-4d36ae41000a",
   "metadata": {
    "executionCancelledAt": null,
    "executionTime": 436,
    "lastExecutedAt": 1696887421089,
    "lastScheduledRunId": null,
    "lastSuccessfullyExecutedCode": "# Getting top origin for each ingredient\ntop_avocado_origin = get_top_origin(\"data/avocado.csv\",\"data/relevant_avocado_categories.txt\")\n\ntop_olive_oil_origin = get_top_origin(\"data/olive_oil.csv\",\"data/relevant_olive_oil_categories.txt\")\n\ntop_sourdough_origin = get_top_origin(\"data/sourdough.csv\",\"data/relevant_sourdough_categories.txt\")"
   },
   "outputs": [
    {
     "name": "stderr",
     "output_type": "stream",
     "text": [
      "/var/folders/zg/m2h196h95cn0krdmmwbszhpw0000gp/T/ipykernel_4734/409420878.py:4: DtypeWarning: Columns (0,1,2,4,5,6,7,8,10,13,15,16,17,18,20,21,22,23,24,25,26,27,29,30,31,32,33,34,35,36,37,38,39,42,43,44,45,46,48,49,50,57,67,70,71,72,73,74,75,76,79,80,81,82,83,86,87,88,89,90,91,92,95,96,97,98,99,100,101,102,103,104,105,106,107,108,109,110,115,121,125,129,133,137,141,145,149,153,157,159,161,165,167,169,177,179,181,183,185,187,189,191,193,195,197,199,201,203,205,211,213,215,217,219,221,223,225,227,229,231,233,235,237,239,241,243,245,247,249,251,253,255,257,259,261,263,265,267,269,271,273,274,275,276,277,278,279,280,281,282,283,284,285,286,288,289,290,291,292,293,294,305,311,312,313,315,316,319,320,321,322,324) have mixed types. Specify dtype option on import or set low_memory=False.\n",
      "  df = pd.read_csv(csv_filepath, sep=\"\\t\")\n"
     ]
    }
   ],
   "source": [
    "# Getting top origin for each ingredient\n",
    "top_avocado_origin = get_top_origin(\"data/avocado.csv\",\"data/relevant_avocado_categories.txt\")\n",
    "\n",
    "top_olive_oil_origin = get_top_origin(\"data/olive_oil.csv\",\"data/relevant_olive_oil_categories.txt\")\n",
    "\n",
    "top_sourdough_origin = get_top_origin(\"data/sourdough.csv\",\"data/relevant_sourdough_categories.txt\")"
   ]
  },
  {
   "cell_type": "code",
   "execution_count": 13,
   "id": "cacfac34-b9e5-44d4-a1e7-03c362265017",
   "metadata": {
    "executionCancelledAt": null,
    "executionTime": 47,
    "lastExecutedAt": 1696887421137,
    "lastScheduledRunId": null,
    "lastSuccessfullyExecutedCode": "print(top_avocado_origin)\nprint(top_olive_oil_origin)\nprint(top_sourdough_origin)",
    "outputsMetadata": {
     "0": {
      "height": 77,
      "type": "stream"
     }
    }
   },
   "outputs": [
    {
     "name": "stdout",
     "output_type": "stream",
     "text": [
      "peru\n",
      "greece\n",
      "united kingdom\n"
     ]
    }
   ],
   "source": [
    "print(top_avocado_origin)\n",
    "print(top_olive_oil_origin)\n",
    "print(top_sourdough_origin)"
   ]
  },
  {
   "cell_type": "markdown",
   "id": "850e0ef2-921b-4341-af08-a1994f53d2d1",
   "metadata": {},
   "source": [
    "From the previous data processing, we can see that the top origin countries for avocado, olive oil and sourdough in the UK are:\n",
    "- For avocado, the majority of it comes from Peru\n",
    "- The most common country of origin for olive oil is Greece\n",
    "- Most of the sourdough in the UK is produced locally/nationally."
   ]
  }
 ],
 "metadata": {
  "colab": {
   "name": "Welcome to DataCamp Workspaces.ipynb",
   "provenance": []
  },
  "kernelspec": {
   "display_name": "Python 3 (ipykernel)",
   "language": "python",
   "name": "python3"
  },
  "language_info": {
   "codemirror_mode": {
    "name": "ipython",
    "version": 3
   },
   "file_extension": ".py",
   "mimetype": "text/x-python",
   "name": "python",
   "nbconvert_exporter": "python",
   "pygments_lexer": "ipython3",
   "version": "3.10.9"
  }
 },
 "nbformat": 4,
 "nbformat_minor": 5
}
